{
  "nbformat": 4,
  "nbformat_minor": 0,
  "metadata": {
    "colab": {
      "name": "Programming_Assignment_5.ipynb",
      "provenance": [],
      "collapsed_sections": [],
      "authorship_tag": "ABX9TyO7xr0d5l5MmIu9iYXbXr78",
      "include_colab_link": true
    },
    "kernelspec": {
      "name": "python3",
      "display_name": "Python 3"
    },
    "language_info": {
      "name": "python"
    }
  },
  "cells": [
    {
      "cell_type": "markdown",
      "metadata": {
        "id": "view-in-github",
        "colab_type": "text"
      },
      "source": [
        "<a href=\"https://colab.research.google.com/github/17sachin/iNueron_Python_Basic_Programming_Assignment/blob/main/Programming_Assignment_5.ipynb\" target=\"_parent\"><img src=\"https://colab.research.google.com/assets/colab-badge.svg\" alt=\"Open In Colab\"/></a>"
      ]
    },
    {
      "cell_type": "markdown",
      "source": [
        "1.Write a Python Program to Find LCM?"
      ],
      "metadata": {
        "id": "Q3yks70Yqj_q"
      }
    },
    {
      "cell_type": "code",
      "source": [
        "def compute_lcm(x, y):\n",
        "\n",
        "    if x > y:\n",
        "        greater = x\n",
        "    else:\n",
        "        greater = y\n",
        "\n",
        "    while(True):\n",
        "        if((greater % x == 0) and (greater % y == 0)) :\n",
        "            lcm = greater\n",
        "            break\n",
        "        greater += 1\n",
        "\n",
        "    return lcm\n",
        "\n",
        "\n",
        "num1 = int(input(\"Enter a 1st Number: \"))\n",
        "num2 = int(input(\"Enter a 2nd Number: \"))\n",
        "\n",
        "print(\"The LCM is\", compute_lcm(num1, num2))\n",
        "\n",
        "\n",
        "\n",
        "\n"
      ],
      "metadata": {
        "colab": {
          "base_uri": "https://localhost:8080/"
        },
        "id": "9_2XmEZPqnES",
        "outputId": "b228704d-4226-45fc-c85c-68ea33d2df3f"
      },
      "execution_count": 3,
      "outputs": [
        {
          "output_type": "stream",
          "name": "stdout",
          "text": [
            "Enter a 1st Number: 6\n",
            "Enter a 2nd Number: 3\n",
            "The LCM is 6\n"
          ]
        }
      ]
    },
    {
      "cell_type": "markdown",
      "source": [
        "2.Write a Python Program to Find HCF?"
      ],
      "metadata": {
        "id": "tsmALCZ6vFMi"
      }
    },
    {
      "cell_type": "code",
      "source": [
        "def compute_hcf(x,y):\n",
        "\n",
        "    if x > y :\n",
        "        smaller=y\n",
        "    else:\n",
        "        smaller=x\n",
        "\n",
        "    for i in range(1, smaller+1):\n",
        "        if ((x % i == 0) and (y %  i== 0)):\n",
        "            hcf=i\n",
        "    return hcf\n",
        "\n",
        "\n",
        "num1=int(input(\"Enter 1st Number: \"))\n",
        "num2=int(input(\"Enter 2nd Number: \"))\n",
        "\n",
        "print(\"The HCF is\", compute_hcf(num1,num2))"
      ],
      "metadata": {
        "colab": {
          "base_uri": "https://localhost:8080/"
        },
        "id": "1uPRDYC9vLQR",
        "outputId": "212b0e29-d4ef-4e7d-d3e7-b8fccb223636"
      },
      "execution_count": 4,
      "outputs": [
        {
          "output_type": "stream",
          "name": "stdout",
          "text": [
            "Enter 1st Number: 85\n",
            "Enter 2nd Number: 65\n",
            "The HCF is 5\n"
          ]
        }
      ]
    },
    {
      "cell_type": "markdown",
      "source": [
        "3.Write a Python Program to Convert Decimal to Binary, Octal and Hexadecimal?"
      ],
      "metadata": {
        "id": "MbSrsDMpxOhI"
      }
    },
    {
      "cell_type": "code",
      "source": [
        "num=int(input(\"Enter a number: \"))\n",
        "\n",
        "print(bin(num),\"in binary.\")\n",
        "print(oct(num),\"in octal.\")\n",
        "print(hex(num),\"in hexadecimal.\")"
      ],
      "metadata": {
        "colab": {
          "base_uri": "https://localhost:8080/"
        },
        "id": "qUn3RvDxxTZw",
        "outputId": "2d620b7f-00d0-4e21-e0e2-f1e7588f9228"
      },
      "execution_count": 5,
      "outputs": [
        {
          "output_type": "stream",
          "name": "stdout",
          "text": [
            "Enter a number: 54\n",
            "0b110110 in binary.\n",
            "0o66 in octal.\n",
            "0x36 in hexadecimal.\n"
          ]
        }
      ]
    },
    {
      "cell_type": "markdown",
      "source": [
        "4.Write a Python Program To Find ASCII value of a character?"
      ],
      "metadata": {
        "id": "Kk3ZBDgYzQ9Y"
      }
    },
    {
      "cell_type": "code",
      "source": [
        "c = input(\"Enter a character: \")\n",
        "print(\"The ASCII value of '\" + c + \"' is\", ord(c))"
      ],
      "metadata": {
        "colab": {
          "base_uri": "https://localhost:8080/"
        },
        "id": "Cw7uqKBczVTI",
        "outputId": "8016125a-8405-41b5-9772-b5abb6d6ac84"
      },
      "execution_count": 9,
      "outputs": [
        {
          "output_type": "stream",
          "name": "stdout",
          "text": [
            "Enter a character: s\n",
            "The ASCII value of 's' is 115\n"
          ]
        }
      ]
    },
    {
      "cell_type": "markdown",
      "source": [
        "5.Write a Python Program to Make a Simple Calculator with 4 basic mathematical operations?"
      ],
      "metadata": {
        "id": "sYplJ2m31Xh4"
      }
    },
    {
      "cell_type": "code",
      "source": [
        "def add(x, y):\n",
        "    return x + y\n",
        "\n",
        "\n",
        "def subtract(x, y):\n",
        "    return x - y\n",
        "\n",
        "\n",
        "def multiply(x, y):\n",
        "    return x * y\n",
        "\n",
        "\n",
        "def divide(x, y):\n",
        "    return x / y\n",
        "\n",
        "\n",
        "print(\"Select operation: \")\n",
        "print(\"1.Add\")\n",
        "print(\"2.Subtract\")\n",
        "print(\"3.Multiply\")\n",
        "print(\"4.Divide\")\n",
        "\n",
        "while True:\n",
        "\n",
        "    choice = input(\"Enter choice(1/2/3/4): \")\n",
        "\n",
        "    if choice in ('1','2','3','4'):\n",
        "        num1 = float(input(\"Enter first number: \"))\n",
        "        num2 = float(input(\"Enter second number: \"))\n",
        "\n",
        "        if choice == '1':\n",
        "            print(num1 , \"+\",  num2, \"=\" ,add(num1,num2))\n",
        "\n",
        "        elif choice == '2':\n",
        "            print(num1 , \"-\",  num2, \"=\" , subtract(num1,num2))\n",
        "\n",
        "        elif choice == '3':\n",
        "            print(num1 ,\"*\" , num2, \"=\", multiply(num1, num2))\n",
        "\n",
        "        elif choice == '4':\n",
        "            print(num1 ,\"/\" , num2, \"=\", divide(num1, num2))\n",
        "\n",
        "        next_calculation = input(\"Let's do next calculation? (yes/no): \")\n",
        "        if next_calculation == \"no\":\n",
        "            break\n",
        "\n",
        "    else:\n",
        "        print(\"Invalid Input\")\n",
        "\n"
      ],
      "metadata": {
        "colab": {
          "base_uri": "https://localhost:8080/"
        },
        "id": "Yc6aYbMy1Y_P",
        "outputId": "410ea088-06ac-4471-f2af-672c20c3a908"
      },
      "execution_count": 10,
      "outputs": [
        {
          "name": "stdout",
          "output_type": "stream",
          "text": [
            "Select operation: \n",
            "1.Add\n",
            "2.Subtract\n",
            "3.Multiply\n",
            "4.Divide\n",
            "Enter choice(1/2/3/4): 3\n",
            "Enter first number: 5\n",
            "Enter second number: 3\n",
            "5.0 * 3.0 = 15.0\n",
            "Let's do next calculation? (yes/no): no\n"
          ]
        }
      ]
    },
    {
      "cell_type": "code",
      "source": [
        ""
      ],
      "metadata": {
        "id": "V7itX75h5HIb"
      },
      "execution_count": null,
      "outputs": []
    }
  ]
}