{
  "nbformat": 4,
  "nbformat_minor": 0,
  "metadata": {
    "colab": {
      "name": "Programming_Assignment_1.ipynb",
      "provenance": [],
      "collapsed_sections": [],
      "authorship_tag": "ABX9TyMnYBDEP+HmuZO5L6uxkSMn",
      "include_colab_link": true
    },
    "kernelspec": {
      "name": "python3",
      "display_name": "Python 3"
    },
    "language_info": {
      "name": "python"
    }
  },
  "cells": [
    {
      "cell_type": "markdown",
      "metadata": {
        "id": "view-in-github",
        "colab_type": "text"
      },
      "source": [
        "<a href=\"https://colab.research.google.com/github/17sachin/iNueron_Python_Basic_Programming_Assignment/blob/main/Programming_Assignment_1.ipynb\" target=\"_parent\"><img src=\"https://colab.research.google.com/assets/colab-badge.svg\" alt=\"Open In Colab\"/></a>"
      ]
    },
    {
      "cell_type": "markdown",
      "metadata": {
        "id": "HbzRg0zvhrBs"
      },
      "source": [
        "1.Write a Python program to print \"Hello Python\"?"
      ]
    },
    {
      "cell_type": "code",
      "metadata": {
        "colab": {
          "base_uri": "https://localhost:8080/"
        },
        "id": "lPL-9r_mh20B",
        "outputId": "62e5e671-9127-4d4e-f9a0-64a5076cbf80"
      },
      "source": [
        "a=\"Hello Pyhton\"\n",
        "print(a)"
      ],
      "execution_count": 1,
      "outputs": [
        {
          "output_type": "stream",
          "text": [
            "Hello Pyhton\n"
          ],
          "name": "stdout"
        }
      ]
    },
    {
      "cell_type": "markdown",
      "metadata": {
        "id": "9KR2Jf22iRcW"
      },
      "source": [
        "2.Write a Python program to do arthimetical operations addition and division?"
      ]
    },
    {
      "cell_type": "code",
      "metadata": {
        "colab": {
          "base_uri": "https://localhost:8080/"
        },
        "id": "Ma0HX-rBieWN",
        "outputId": "413c3ca4-c8c6-4d04-e5a0-388c97122ed6"
      },
      "source": [
        "a=int(input(\"Enter a number \"))\n",
        "b=int(input(\"Enter a number \"))\n",
        "c=a+b\n",
        "print(\"Sum of Numbers is:\",c)\n",
        "d=a/b\n",
        "print(\"Division of Number is:\",d)"
      ],
      "execution_count": 5,
      "outputs": [
        {
          "output_type": "stream",
          "text": [
            "Enter a number 4\n",
            "Enter a number 8\n",
            "Sum of Numbers is: 12\n",
            "Division of Number is: 0.5\n"
          ],
          "name": "stdout"
        }
      ]
    },
    {
      "cell_type": "markdown",
      "metadata": {
        "id": "1lEuh101j7j7"
      },
      "source": [
        "3.Write a Python program to find the area of Triangle?"
      ]
    },
    {
      "cell_type": "code",
      "metadata": {
        "colab": {
          "base_uri": "https://localhost:8080/"
        },
        "id": "fGEyPb9BkDFH",
        "outputId": "a623b99a-e792-491a-9a90-7e0bb5361405"
      },
      "source": [
        "a=int(input(\"Enter the base of Triangle \"))\n",
        "h=int(input(\"Enter the height of Triangle \"))\n",
        "Area=1/2*b*h\n",
        "print(\"Area of Traingle is :\", Area)\n"
      ],
      "execution_count": 6,
      "outputs": [
        {
          "output_type": "stream",
          "text": [
            "Enter the base of Triangle 8\n",
            "Enter the height of Triangle 4\n",
            "Area of Traingle is : 16.0\n"
          ],
          "name": "stdout"
        }
      ]
    },
    {
      "cell_type": "markdown",
      "metadata": {
        "id": "YFUYQGo5lH3Z"
      },
      "source": [
        "4.Write a Python program to swap two variables?"
      ]
    },
    {
      "cell_type": "code",
      "metadata": {
        "colab": {
          "base_uri": "https://localhost:8080/"
        },
        "id": "ed16CgIBlX65",
        "outputId": "2fce510d-bec6-4b33-eb44-bca6ad5f728c"
      },
      "source": [
        "a=10\n",
        "b=20\n",
        "temp=a\n",
        "a=b\n",
        "b=temp\n",
        "print(\"Value of a :\",a)\n",
        "print(\"Value of b :\",b)\n"
      ],
      "execution_count": 7,
      "outputs": [
        {
          "output_type": "stream",
          "text": [
            "Value of a : 20\n",
            "Value of b : 10\n"
          ],
          "name": "stdout"
        }
      ]
    },
    {
      "cell_type": "code",
      "metadata": {
        "colab": {
          "base_uri": "https://localhost:8080/"
        },
        "id": "RgIo1b7HmnjU",
        "outputId": "3b93544f-7158-4005-ef36-e4fe33c9a5bd"
      },
      "source": [
        "x=int(input(\"Enter the 1st Number \"))\n",
        "y=int(input(\"Enter the 2nd Number \"))\n",
        "temp=x\n",
        "x=y\n",
        "y=temp\n",
        "print(\"Value of x is :\",x)\n",
        "print(\"Value of y is :\",y)\n"
      ],
      "execution_count": 10,
      "outputs": [
        {
          "output_type": "stream",
          "text": [
            "Enter the 1st Number 45\n",
            "Enter the 2nd Number 98\n",
            "Value of x is : 98\n",
            "Value of y is : 45\n"
          ],
          "name": "stdout"
        }
      ]
    },
    {
      "cell_type": "markdown",
      "metadata": {
        "id": "gv0kG10VoE7f"
      },
      "source": [
        "5.Write a Python program to generate a random number?"
      ]
    },
    {
      "cell_type": "code",
      "metadata": {
        "colab": {
          "base_uri": "https://localhost:8080/"
        },
        "id": "JPZAjGG_oHB0",
        "outputId": "9c02b8c9-7d97-46ce-8dd9-ef315b003622"
      },
      "source": [
        "import random\n",
        "l=[1,2,3,4,5,6]\n",
        "print(random.choice(l))"
      ],
      "execution_count": 12,
      "outputs": [
        {
          "output_type": "stream",
          "text": [
            "3\n"
          ],
          "name": "stdout"
        }
      ]
    }
  ]
}