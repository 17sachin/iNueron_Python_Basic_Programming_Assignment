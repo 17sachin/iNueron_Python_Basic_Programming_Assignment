{
  "nbformat": 4,
  "nbformat_minor": 0,
  "metadata": {
    "colab": {
      "name": "Programming_Assingment8.ipynb",
      "provenance": [],
      "collapsed_sections": [],
      "authorship_tag": "ABX9TyPjddNOrK0s2nS6stDd8KLM",
      "include_colab_link": true
    },
    "kernelspec": {
      "name": "python3",
      "display_name": "Python 3"
    },
    "language_info": {
      "name": "python"
    }
  },
  "cells": [
    {
      "cell_type": "markdown",
      "metadata": {
        "id": "view-in-github",
        "colab_type": "text"
      },
      "source": [
        "<a href=\"https://colab.research.google.com/github/17sachin/iNueron_Python_Basic_Programming_Assignment/blob/main/Programming_Assingment8.ipynb\" target=\"_parent\"><img src=\"https://colab.research.google.com/assets/colab-badge.svg\" alt=\"Open In Colab\"/></a>"
      ]
    },
    {
      "cell_type": "markdown",
      "source": [
        "1.Write a Python Program to Add Two Matrices?"
      ],
      "metadata": {
        "id": "tjbZ7c84Bbrd"
      }
    },
    {
      "cell_type": "code",
      "source": [
        "x=[[12,7,3],\n",
        "   [4,5,6],\n",
        "   [7,8,9]]\n",
        "\n",
        "y=[[5,8,1],\n",
        "   [6,7,3],\n",
        "   [4,5,9]]\n",
        "\n",
        "result=[[0,0,0],\n",
        "   [0,0,0],\n",
        "   [0,0,0]]\n",
        "\n",
        "for i in range(len(x)):\n",
        "    for j in range(len(x[0])):\n",
        "        result[i][j]= x[i][j] + y[i][j]\n",
        "\n",
        "for r in result:\n",
        "    print(r)"
      ],
      "metadata": {
        "colab": {
          "base_uri": "https://localhost:8080/"
        },
        "id": "8so4VmVIBduE",
        "outputId": "4e47a51e-1bfa-4df8-b18a-4f0e530202a3"
      },
      "execution_count": 1,
      "outputs": [
        {
          "output_type": "stream",
          "name": "stdout",
          "text": [
            "[17, 15, 4]\n",
            "[10, 12, 9]\n",
            "[11, 13, 18]\n"
          ]
        }
      ]
    },
    {
      "cell_type": "markdown",
      "source": [
        "2.Write a Python Program to Multiply Two Matrices?"
      ],
      "metadata": {
        "id": "hhcfzIVuDAsM"
      }
    },
    {
      "cell_type": "code",
      "source": [
        "x=[[12,7,3],\n",
        "   [4,5,6],\n",
        "   [7,8,9]]\n",
        "\n",
        "y=[[5,8,1],\n",
        "   [6,7,3],\n",
        "   [4,5,9]]\n",
        "\n",
        "result=[[0,0,0],\n",
        "   [0,0,0],\n",
        "   [0,0,0]]\n",
        "\n",
        "for i in range(len(x)):\n",
        "    for j in range(len(x[0])):\n",
        "        result[i][j]= x[i][j] * y[i][j]\n",
        "\n",
        "for r in result:\n",
        "    print(r)"
      ],
      "metadata": {
        "colab": {
          "base_uri": "https://localhost:8080/"
        },
        "id": "W65E9s6bDG7T",
        "outputId": "6a9742d9-f74c-401a-ff59-038ee3552d8e"
      },
      "execution_count": 2,
      "outputs": [
        {
          "output_type": "stream",
          "name": "stdout",
          "text": [
            "[60, 56, 3]\n",
            "[24, 35, 18]\n",
            "[28, 40, 81]\n"
          ]
        }
      ]
    },
    {
      "cell_type": "markdown",
      "source": [
        "3.Write a Python Program to Transpose a Matrix?"
      ],
      "metadata": {
        "id": "81KNvTBiDh-T"
      }
    },
    {
      "cell_type": "code",
      "source": [
        "x = [[12,7],\n",
        "   [4,5],\n",
        "   [3,8]]\n",
        "\n",
        "result=[[0,0,0],\n",
        "        [0,0,0]]\n",
        "\n",
        "for i in range(len(x)):\n",
        "    for j in range(len(x[0])):\n",
        "        result[j][i] = x[i][j]\n",
        "\n",
        "for r in result:\n",
        "    print(r)"
      ],
      "metadata": {
        "colab": {
          "base_uri": "https://localhost:8080/"
        },
        "id": "ch1lU5VsDjo7",
        "outputId": "fa84d6fd-5afc-4591-8940-8cd00be5bad1"
      },
      "execution_count": 3,
      "outputs": [
        {
          "output_type": "stream",
          "name": "stdout",
          "text": [
            "[12, 4, 3]\n",
            "[7, 5, 8]\n"
          ]
        }
      ]
    },
    {
      "cell_type": "markdown",
      "source": [
        "4.Write a Python Program to Sort Words in Alphabetic Order?"
      ],
      "metadata": {
        "id": "NZhVvUy8EgKL"
      }
    },
    {
      "cell_type": "code",
      "source": [
        "my_str=input(\"Enter a string: \")\n",
        "\n",
        "words=[word.lower() for word in my_str.split()]\n",
        "\n",
        "words.sort()\n",
        "\n",
        "for word in words:\n",
        "    print(word)"
      ],
      "metadata": {
        "colab": {
          "base_uri": "https://localhost:8080/"
        },
        "id": "PlWdoUZnGs4j",
        "outputId": "1a1080a4-ccc7-4632-ec94-2bbaf942ff21"
      },
      "execution_count": 4,
      "outputs": [
        {
          "output_type": "stream",
          "name": "stdout",
          "text": [
            "Enter a string: My name is Sachin\n",
            "is\n",
            "my\n",
            "name\n",
            "sachin\n"
          ]
        }
      ]
    },
    {
      "cell_type": "code",
      "source": [
        ""
      ],
      "metadata": {
        "id": "BYUSTW1uGt6s"
      },
      "execution_count": null,
      "outputs": []
    },
    {
      "cell_type": "markdown",
      "source": [
        "5.Write a Python Program to Remove Punctuation From a String?"
      ],
      "metadata": {
        "id": "It_CnfzRG29y"
      }
    },
    {
      "cell_type": "code",
      "source": [
        "punctuations = '''!()-[]{};:'\"\\,<>./?@#$%^&*_~'''\n",
        "\n",
        "my_str = input(\"Enter a string: \")\n",
        "\n",
        "no_punct= \"\"\n",
        "\n",
        "for char in my_str:\n",
        "    if char not in punctuations:\n",
        "        no_punct = no_punct + char\n",
        "\n",
        "print(no_punct)"
      ],
      "metadata": {
        "colab": {
          "base_uri": "https://localhost:8080/"
        },
        "id": "IAOTEhBQG7G6",
        "outputId": "ec05ed5a-a8d2-4f1c-f756-231548d4fc22"
      },
      "execution_count": 5,
      "outputs": [
        {
          "output_type": "stream",
          "name": "stdout",
          "text": [
            "Enter a string: Hello!!!, he said ---and went\n",
            "Hello he said and went\n"
          ]
        }
      ]
    },
    {
      "cell_type": "code",
      "source": [
        ""
      ],
      "metadata": {
        "id": "CcDpbrnLH94W"
      },
      "execution_count": null,
      "outputs": []
    }
  ]
}