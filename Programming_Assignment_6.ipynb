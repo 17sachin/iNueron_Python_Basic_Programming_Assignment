{
  "nbformat": 4,
  "nbformat_minor": 0,
  "metadata": {
    "colab": {
      "name": "Programming_Assignment_6.ipynb",
      "provenance": [],
      "collapsed_sections": [],
      "authorship_tag": "ABX9TyM2gDXnHCtchepYsAS7llWY",
      "include_colab_link": true
    },
    "kernelspec": {
      "name": "python3",
      "display_name": "Python 3"
    },
    "language_info": {
      "name": "python"
    }
  },
  "cells": [
    {
      "cell_type": "markdown",
      "metadata": {
        "id": "view-in-github",
        "colab_type": "text"
      },
      "source": [
        "<a href=\"https://colab.research.google.com/github/17sachin/iNueron_Python_Basic_Programming_Assignment/blob/main/Programming_Assignment_6.ipynb\" target=\"_parent\"><img src=\"https://colab.research.google.com/assets/colab-badge.svg\" alt=\"Open In Colab\"/></a>"
      ]
    },
    {
      "cell_type": "markdown",
      "source": [
        "1.Write a Python Program to Display Fibonacci Sequence Using Recursion?"
      ],
      "metadata": {
        "id": "WXq5T2b0N08P"
      }
    },
    {
      "cell_type": "code",
      "source": [
        "def recur_fibo(n):\n",
        "   if n <= 1:\n",
        "       return n\n",
        "   else:\n",
        "       return(recur_fibo(n-1) + recur_fibo(n-2))\n",
        "\n",
        "nterms = int(input(\"Enter the nterms: \"))\n",
        "\n",
        "if nterms <= 0:\n",
        "   print(\"Plese enter a positive integer\")\n",
        "else:\n",
        "   print(\"Fibonacci sequence:\")\n",
        "   for i in range(nterms):\n",
        "       print(recur_fibo(i))"
      ],
      "metadata": {
        "colab": {
          "base_uri": "https://localhost:8080/"
        },
        "id": "lDlk3KCwN5ZP",
        "outputId": "609d54ca-d2a2-4ed3-da9b-82d1674f7d56"
      },
      "execution_count": 4,
      "outputs": [
        {
          "output_type": "stream",
          "name": "stdout",
          "text": [
            "Enter the nterms: 6\n",
            "Fibonacci sequence:\n",
            "0\n",
            "1\n",
            "1\n",
            "2\n",
            "3\n",
            "5\n"
          ]
        }
      ]
    },
    {
      "cell_type": "markdown",
      "source": [
        "2.Write a Python Program to Find Factorial of Number Using Recursion?"
      ],
      "metadata": {
        "id": "4mn4016HOJt_"
      }
    },
    {
      "cell_type": "code",
      "source": [
        "def recur_factorial(n):\n",
        "   if n == 1:\n",
        "       return n\n",
        "   else:\n",
        "       return n*recur_factorial(n-1)\n",
        "\n",
        "num=int(input(\"Enter the Number: \"))\n",
        "\n",
        "if num < 0:\n",
        "   print(\"Sorry, factorial does not exist for negative numbers\")\n",
        "elif num == 0:\n",
        "   print(\"The factorial of 0 is 1\")\n",
        "else:\n",
        "   print(\"The factorial of\", num, \"is\", recur_factorial(num))"
      ],
      "metadata": {
        "colab": {
          "base_uri": "https://localhost:8080/"
        },
        "id": "AWvHIEBjOOCv",
        "outputId": "7eda4233-ff86-4dfe-af42-e12d10207975"
      },
      "execution_count": 3,
      "outputs": [
        {
          "output_type": "stream",
          "name": "stdout",
          "text": [
            "Enter the Number: 7\n",
            "The factorial of 7 is 5040\n"
          ]
        }
      ]
    },
    {
      "cell_type": "markdown",
      "source": [
        "3.Write a Python Program to calculate your Body Mass Index?"
      ],
      "metadata": {
        "id": "XNDyqtElPAQJ"
      }
    },
    {
      "cell_type": "code",
      "source": [
        "height=float(input(\"Enter the height in cm: \"))\n",
        "weight=float(input(\"Enter the weight in kg: \"))\n",
        "\n",
        "BMI=weight/(height/100)**2\n",
        "\n",
        "print(f\"BMI is {BMI}\")\n",
        "\n",
        "if BMI <= 18.4:\n",
        "  print(\"Underweight\")\n",
        "elif BMI <= 24.9:\n",
        "  print(\"healthy\")\n",
        "elif BMI <=29.9:\n",
        "  print(\"Over weight\")\n",
        "elif BMI <=34.9:\n",
        "  print(\"Severely overweight\")\n",
        "elif BMI <=39.9:\n",
        "  print(\"Obese\")\n",
        "else:\n",
        "  print(\"Severely Obese\")"
      ],
      "metadata": {
        "colab": {
          "base_uri": "https://localhost:8080/"
        },
        "id": "2uG4ncgtPDTX",
        "outputId": "1fa344a1-a38b-41cb-a8b8-d3776c63cec2"
      },
      "execution_count": 6,
      "outputs": [
        {
          "output_type": "stream",
          "name": "stdout",
          "text": [
            "Enter the height in cm: 182\n",
            "Enter the weight in kg: 92\n",
            "BMI is 27.77442337881898\n",
            "Over weight\n"
          ]
        }
      ]
    },
    {
      "cell_type": "markdown",
      "source": [
        "4.Write a Python Program to calculate the natural logarithm of any number?"
      ],
      "metadata": {
        "id": "I-1YcRIkQ6Cg"
      }
    },
    {
      "cell_type": "code",
      "source": [
        "import math\n",
        "\n",
        "num=int(input(\"Enter the number: \"))\n",
        "\n",
        "print(\"Log value: \", math.log(num))"
      ],
      "metadata": {
        "colab": {
          "base_uri": "https://localhost:8080/"
        },
        "id": "0eKt91sOQ_7v",
        "outputId": "d934874d-f43d-4601-e7b2-c0ba0a866148"
      },
      "execution_count": 7,
      "outputs": [
        {
          "output_type": "stream",
          "name": "stdout",
          "text": [
            "Enter the number: 3\n",
            "Log value:  1.0986122886681098\n"
          ]
        }
      ]
    },
    {
      "cell_type": "markdown",
      "source": [
        "5.Write a Python Program for cube sum of first n natural numbers?"
      ],
      "metadata": {
        "id": "Q23cS5DXRj6W"
      }
    },
    {
      "cell_type": "code",
      "source": [
        "def CubeSum(n):\n",
        "    s=0\n",
        "    for i in range (1, n+1):\n",
        "        s += i*i*i\n",
        "    return s\n",
        "\n",
        "\n",
        "n=int(input(\"Enter n: \"))\n",
        "print(CubeSum(n))"
      ],
      "metadata": {
        "colab": {
          "base_uri": "https://localhost:8080/"
        },
        "id": "pTdsDbPCTP7-",
        "outputId": "0479b10b-a2ab-4d91-916e-1692c8d14564"
      },
      "execution_count": 8,
      "outputs": [
        {
          "output_type": "stream",
          "name": "stdout",
          "text": [
            "Enter n: 6\n",
            "441\n"
          ]
        }
      ]
    },
    {
      "cell_type": "code",
      "source": [
        ""
      ],
      "metadata": {
        "id": "uMSC_yZRTRqR"
      },
      "execution_count": null,
      "outputs": []
    }
  ]
}