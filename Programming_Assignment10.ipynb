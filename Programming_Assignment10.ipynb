{
  "nbformat": 4,
  "nbformat_minor": 0,
  "metadata": {
    "colab": {
      "name": "Programming_Assignment10.ipynb",
      "provenance": [],
      "collapsed_sections": [],
      "authorship_tag": "ABX9TyMOd1ORIGdzETARfGUEYqlZ",
      "include_colab_link": true
    },
    "kernelspec": {
      "name": "python3",
      "display_name": "Python 3"
    },
    "language_info": {
      "name": "python"
    }
  },
  "cells": [
    {
      "cell_type": "markdown",
      "metadata": {
        "id": "view-in-github",
        "colab_type": "text"
      },
      "source": [
        "<a href=\"https://colab.research.google.com/github/17sachin/iNueron_Python_Basic_Programming_Assignment/blob/main/Programming_Assignment10.ipynb\" target=\"_parent\"><img src=\"https://colab.research.google.com/assets/colab-badge.svg\" alt=\"Open In Colab\"/></a>"
      ]
    },
    {
      "cell_type": "markdown",
      "source": [
        "1.Write a Python program to find sum of elements in list?"
      ],
      "metadata": {
        "id": "MqAzqgRvIv17"
      }
    },
    {
      "cell_type": "code",
      "source": [
        "list = [5,8,7,9]\n",
        "\n",
        "total = 0\n",
        "\n",
        "for i in range(0,len(list)):\n",
        "    total = total + list[i]\n",
        "\n",
        "print(total)"
      ],
      "metadata": {
        "colab": {
          "base_uri": "https://localhost:8080/"
        },
        "id": "y1xVsfOaJnNS",
        "outputId": "f13c7ecf-67f1-4643-a83d-d2e23ee72b01"
      },
      "execution_count": 1,
      "outputs": [
        {
          "output_type": "stream",
          "name": "stdout",
          "text": [
            "29\n"
          ]
        }
      ]
    },
    {
      "cell_type": "markdown",
      "source": [
        "2.Write a Python program to Multiply all numbers in the list?"
      ],
      "metadata": {
        "id": "juKv1ii3K9fZ"
      }
    },
    {
      "cell_type": "code",
      "source": [
        "import numpy as np\n",
        "\n",
        "list1=[1,2,3]\n",
        "list2=[3,2,4]\n",
        "\n",
        "result1=np.prod(list1)\n",
        "result2=np.prod(list2)\n",
        "\n",
        "print(result1)\n",
        "print(result2)"
      ],
      "metadata": {
        "colab": {
          "base_uri": "https://localhost:8080/"
        },
        "id": "FgZ1me_BL7LZ",
        "outputId": "3a6dadad-96cc-4e02-99bf-da7285667e11"
      },
      "execution_count": 3,
      "outputs": [
        {
          "output_type": "stream",
          "name": "stdout",
          "text": [
            "6\n",
            "24\n"
          ]
        }
      ]
    },
    {
      "cell_type": "code",
      "source": [
        "def multiplyList(myList) :\n",
        "  result = 1\n",
        "  for x in myList:\n",
        "    result = result * x\n",
        "  return result\n",
        "     \n",
        "\n",
        "list1 = [1, 2, 3]\n",
        "list2 = [3, 2, 4]\n",
        "print(multiplyList(list1))\n",
        "print(multiplyList(list2))"
      ],
      "metadata": {
        "colab": {
          "base_uri": "https://localhost:8080/"
        },
        "id": "nF-PidzAMirK",
        "outputId": "5bdf2788-e774-4c13-a71f-e514abe04f7b"
      },
      "execution_count": 5,
      "outputs": [
        {
          "output_type": "stream",
          "name": "stdout",
          "text": [
            "6\n",
            "24\n"
          ]
        }
      ]
    },
    {
      "cell_type": "code",
      "source": [
        ""
      ],
      "metadata": {
        "id": "eTqYp0r6OCD1"
      },
      "execution_count": null,
      "outputs": []
    },
    {
      "cell_type": "markdown",
      "source": [
        "3.Write a Python program to find smallest number in a list?"
      ],
      "metadata": {
        "id": "H6q3A5RiOHu7"
      }
    },
    {
      "cell_type": "code",
      "source": [
        "list=[]\n",
        "\n",
        "num=int(input(\"Enter number of Elements is List: \"))\n",
        "\n",
        "for i in range(1,num+1):\n",
        "    ele = int(input(\"Enter elements: \"))\n",
        "    list.append(ele)\n",
        "\n",
        "print(\"Smallest element is: \", min(list))69\n"
      ],
      "metadata": {
        "colab": {
          "base_uri": "https://localhost:8080/"
        },
        "id": "LaIjdNDqOOoA",
        "outputId": "a7b187ce-6695-4a57-9a96-3179af041760"
      },
      "execution_count": 6,
      "outputs": [
        {
          "output_type": "stream",
          "name": "stdout",
          "text": [
            "Enter number of Elements is List: 3\n",
            "Enter elements: 85\n",
            "Enter elements: 5\n",
            "Enter elements: 6\n",
            "Smallest element is:  5\n"
          ]
        }
      ]
    },
    {
      "cell_type": "markdown",
      "source": [
        "4.Write a Python program to find largest number in a list?"
      ],
      "metadata": {
        "id": "7qyztNA0P52w"
      }
    },
    {
      "cell_type": "code",
      "source": [
        "list=[]\n",
        "\n",
        "num=int(input(\"Enter number of Elements is List: \"))\n",
        "\n",
        "for i in range(1,num+1):\n",
        "    ele = int(input(\"Enter elements: \"))\n",
        "    list.append(ele)\n",
        "\n",
        "print(\"Largest element is: \", max(list))"
      ],
      "metadata": {
        "colab": {
          "base_uri": "https://localhost:8080/"
        },
        "id": "5g7w3BlvQEgY",
        "outputId": "2ce6448a-dd21-4d46-d716-66c966dbbe12"
      },
      "execution_count": 1,
      "outputs": [
        {
          "output_type": "stream",
          "name": "stdout",
          "text": [
            "Enter number of Elements is List: 2\n",
            "Enter elements: 56\n",
            "Enter elements: 98\n",
            "Largest element is:  98\n"
          ]
        }
      ]
    },
    {
      "cell_type": "markdown",
      "source": [
        "5.Write a Python program to find second largest number in a list?"
      ],
      "metadata": {
        "id": "Wk94JJFlQeM4"
      }
    },
    {
      "cell_type": "code",
      "source": [
        "list=[]\n",
        "\n",
        "num=int(input(\"Enter number of Elements is List: \"))\n",
        "\n",
        "for i in range(1,num+1):\n",
        "    ele = int(input(\"Enter elements: \"))\n",
        "    list.append(ele)\n",
        "\n",
        "print(\"Second largest element is: \", sorted(list)[-2])\n"
      ],
      "metadata": {
        "colab": {
          "base_uri": "https://localhost:8080/"
        },
        "id": "-xgg1a7bQlWo",
        "outputId": "2a5bbec7-11d6-4826-d80b-7af481f9a295"
      },
      "execution_count": 2,
      "outputs": [
        {
          "output_type": "stream",
          "name": "stdout",
          "text": [
            "Enter number of Elements is List: 3\n",
            "Enter elements: 98\n",
            "Enter elements: 54\n",
            "Enter elements: 63\n",
            "Second largest element is:  63\n"
          ]
        }
      ]
    },
    {
      "cell_type": "markdown",
      "source": [
        "6.Write a Python program to print even numbers in a list?"
      ],
      "metadata": {
        "id": "OTs9IedWRVl3"
      }
    },
    {
      "cell_type": "code",
      "source": [
        "list = [10,20,45,95,69,32]\n",
        "\n",
        "for num in list:\n",
        "    if num % 2 == 0:\n",
        "        print(num , end=\" \")"
      ],
      "metadata": {
        "colab": {
          "base_uri": "https://localhost:8080/"
        },
        "id": "GO8jicncRcCx",
        "outputId": "d72fe642-b7f0-417a-afce-5f5546753b1b"
      },
      "execution_count": 4,
      "outputs": [
        {
          "output_type": "stream",
          "name": "stdout",
          "text": [
            "10 20 32 "
          ]
        }
      ]
    },
    {
      "cell_type": "markdown",
      "source": [
        "7.Write a Python program to print odd numbers in a List?"
      ],
      "metadata": {
        "id": "8TafEq12T54u"
      }
    },
    {
      "cell_type": "code",
      "source": [
        "list = [10,20,45,95,69,32]\n",
        "\n",
        "for num in list:\n",
        "    if num % 2 != 0:\n",
        "        print(num , end=\" \")"
      ],
      "metadata": {
        "colab": {
          "base_uri": "https://localhost:8080/"
        },
        "id": "-6P-mcRjUAjO",
        "outputId": "fb09b381-83c4-4e55-92af-849294bf4c82"
      },
      "execution_count": 3,
      "outputs": [
        {
          "output_type": "stream",
          "name": "stdout",
          "text": [
            "45 95 69 "
          ]
        }
      ]
    },
    {
      "cell_type": "markdown",
      "source": [
        "8.Write a Python program to Remove empty List from List?"
      ],
      "metadata": {
        "id": "Ae4VwI0fUL4u"
      }
    },
    {
      "cell_type": "code",
      "source": [
        "list = [10,20,[],45,95,[],69,32]\n",
        "\n",
        "print(\"The original list is : \" + str(list))\n",
        "\n",
        "res=[ele for ele in list if ele != []]\n",
        "\n",
        "print(\"List after empty list removal: \", str(res))"
      ],
      "metadata": {
        "colab": {
          "base_uri": "https://localhost:8080/"
        },
        "id": "NAG1EAdKURJG",
        "outputId": "624fba76-899e-44b1-a59c-20cc277ea6cd"
      },
      "execution_count": 5,
      "outputs": [
        {
          "output_type": "stream",
          "name": "stdout",
          "text": [
            "The original list is : [10, 20, [], 45, 95, [], 69, 32]\n",
            "List after empty list removal:  [10, 20, 45, 95, 69, 32]\n"
          ]
        }
      ]
    },
    {
      "cell_type": "markdown",
      "source": [
        "9.Write a Python program to Cloning or Copying a list?"
      ],
      "metadata": {
        "id": "0iI24MawVwDG"
      }
    },
    {
      "cell_type": "code",
      "source": [
        "def Cloning(li1):\n",
        "    li_copy = li1[:]\n",
        "    return li_copy\n",
        "   \n",
        "li1 = [4, 8, 2, 10, 15, 18]\n",
        "li2 = Cloning(li1)\n",
        "print(\"Original List:\", li1)\n",
        "print(\"After Cloning:\", li2)"
      ],
      "metadata": {
        "colab": {
          "base_uri": "https://localhost:8080/"
        },
        "id": "fmgNBe6GV1wG",
        "outputId": "cebd7df7-a81d-46a0-c622-1a5a58d38c5d"
      },
      "execution_count": 6,
      "outputs": [
        {
          "output_type": "stream",
          "name": "stdout",
          "text": [
            "Original List: [4, 8, 2, 10, 15, 18]\n",
            "After Cloning: [4, 8, 2, 10, 15, 18]\n"
          ]
        }
      ]
    },
    {
      "cell_type": "markdown",
      "source": [
        "10.Write a Python program to Count occurrences of an element in a list?"
      ],
      "metadata": {
        "id": "gzHefGUIWSVG"
      }
    },
    {
      "cell_type": "code",
      "source": [
        "def countX(lst, x):\n",
        "    return lst.count(x)\n",
        " \n",
        "lst = [8, 6, 8, 10, 8, 20, 10, 8, 8]\n",
        "x = 8\n",
        "print('{} has occurred {} times'.format(x, countX(lst, x)))"
      ],
      "metadata": {
        "colab": {
          "base_uri": "https://localhost:8080/"
        },
        "id": "ZbdhlCTAWNAo",
        "outputId": "f46d0eba-5513-4783-ec21-7899386f5d6f"
      },
      "execution_count": 7,
      "outputs": [
        {
          "output_type": "stream",
          "name": "stdout",
          "text": [
            "8 has occurred 5 times\n"
          ]
        }
      ]
    },
    {
      "cell_type": "code",
      "source": [
        ""
      ],
      "metadata": {
        "id": "sifQ0bNIW5HA"
      },
      "execution_count": null,
      "outputs": []
    }
  ]
}