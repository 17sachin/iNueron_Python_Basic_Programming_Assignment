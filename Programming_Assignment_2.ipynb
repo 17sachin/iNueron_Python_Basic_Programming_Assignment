{
  "nbformat": 4,
  "nbformat_minor": 0,
  "metadata": {
    "colab": {
      "name": "Programming_Assignment_2.ipynb",
      "provenance": [],
      "collapsed_sections": [],
      "authorship_tag": "ABX9TyPR4SQbbc0J8p/RJhbZCRh1",
      "include_colab_link": true
    },
    "kernelspec": {
      "name": "python3",
      "display_name": "Python 3"
    },
    "language_info": {
      "name": "python"
    }
  },
  "cells": [
    {
      "cell_type": "markdown",
      "metadata": {
        "id": "view-in-github",
        "colab_type": "text"
      },
      "source": [
        "<a href=\"https://colab.research.google.com/github/17sachin/iNueron_Python_Basic_Programming_Assignment/blob/main/Programming_Assignment_2.ipynb\" target=\"_parent\"><img src=\"https://colab.research.google.com/assets/colab-badge.svg\" alt=\"Open In Colab\"/></a>"
      ]
    },
    {
      "cell_type": "markdown",
      "metadata": {
        "id": "A5JdSRXnqVhZ"
      },
      "source": [
        "1.Write a Python program to convert kilometers to miles?"
      ]
    },
    {
      "cell_type": "code",
      "metadata": {
        "colab": {
          "base_uri": "https://localhost:8080/"
        },
        "id": "Iw17Ag5Gqg02",
        "outputId": "4cac2e35-b448-414d-9c2e-7be274eae682"
      },
      "source": [
        "a=int(input(\"Enter the kilometers\"))\n",
        "m=a*.62\n",
        "print(\"The value in Miles is:\",m)"
      ],
      "execution_count": 1,
      "outputs": [
        {
          "output_type": "stream",
          "text": [
            "Enter the kilometers65\n",
            "The value in Miles is: 40.3\n"
          ],
          "name": "stdout"
        }
      ]
    },
    {
      "cell_type": "markdown",
      "metadata": {
        "id": "I3WEfAIIrEfG"
      },
      "source": [
        "2.Write a Python program to convert Celsius to Fahrenheit?"
      ]
    },
    {
      "cell_type": "code",
      "metadata": {
        "colab": {
          "base_uri": "https://localhost:8080/"
        },
        "id": "rgrq5dLnrNz9",
        "outputId": "97fd5c1a-0132-430c-f0b8-db4e3d62a7fc"
      },
      "source": [
        "c=int(input(\"Enter the Celsius value \"))\n",
        "f=c*1.8+32\n",
        "print(\"The value in Fahrenheit is:\",f)"
      ],
      "execution_count": 2,
      "outputs": [
        {
          "output_type": "stream",
          "text": [
            "Enter the Celsius value 25\n",
            "The value in Fahrenheit is: 77.0\n"
          ],
          "name": "stdout"
        }
      ]
    },
    {
      "cell_type": "markdown",
      "metadata": {
        "id": "pJBYCV31r3-0"
      },
      "source": [
        "3.Write a Python program to display calender?"
      ]
    },
    {
      "cell_type": "code",
      "metadata": {
        "colab": {
          "base_uri": "https://localhost:8080/"
        },
        "id": "3oNzHDwfr-KF",
        "outputId": "af208b91-0b2a-41de-d25a-b4fed25da455"
      },
      "source": [
        "import calendar\n",
        "\n",
        "yy=int(input(\"Enter the Year :\"))\n",
        "mm=int(input(\"Enter the month :\"))\n",
        "print(calendar.month(yy,mm))"
      ],
      "execution_count": 6,
      "outputs": [
        {
          "output_type": "stream",
          "text": [
            "Enter the Year :2029\n",
            "Enter the month :8\n",
            "    August 2029\n",
            "Mo Tu We Th Fr Sa Su\n",
            "       1  2  3  4  5\n",
            " 6  7  8  9 10 11 12\n",
            "13 14 15 16 17 18 19\n",
            "20 21 22 23 24 25 26\n",
            "27 28 29 30 31\n",
            "\n"
          ],
          "name": "stdout"
        }
      ]
    },
    {
      "cell_type": "markdown",
      "metadata": {
        "id": "OvNZUtnxs8YO"
      },
      "source": [
        "4.Write a Python program to solve quadratic equation?"
      ]
    },
    {
      "cell_type": "code",
      "metadata": {
        "colab": {
          "base_uri": "https://localhost:8080/"
        },
        "id": "AwRlkm9etD5z",
        "outputId": "5ef12fe1-07c8-4850-e215-ee56bda7a958"
      },
      "source": [
        "#Quadratic equation=ax**2+bx+c\n",
        "#Need to calculate the discriminant d\n",
        "\n",
        "import cmath\n",
        "\n",
        "a=int(input(\"Enter the a value :\"))\n",
        "b=int(input(\"Enter the b value :\"))\n",
        "c=int(input(\"Enter the c value :\"))\n",
        "d=(b**2)-(4*a*c)\n",
        "\n",
        "x=(-b-cmath.sqrt(d))/(2*a)\n",
        "y=(-b+cmath.sqrt(d))/(2*a)\n",
        "\n",
        "print(\"The solution are {} and {}\".format(x,y))\n"
      ],
      "execution_count": 8,
      "outputs": [
        {
          "output_type": "stream",
          "text": [
            "Enter the a value :1\n",
            "Enter the b value :5\n",
            "Enter the c value :6\n",
            "The solution are (-3+0j) and (-2+0j)\n"
          ],
          "name": "stdout"
        }
      ]
    },
    {
      "cell_type": "markdown",
      "metadata": {
        "id": "CL41LRozvi1i"
      },
      "source": [
        "5.Write a python program to swap two variables without temp variable?"
      ]
    },
    {
      "cell_type": "code",
      "metadata": {
        "colab": {
          "base_uri": "https://localhost:8080/"
        },
        "id": "ZSGiWw22vuJL",
        "outputId": "703254c9-a87d-4b23-d02a-16eb800180a4"
      },
      "source": [
        "a=int(input(\"Enter the 1st number :\"))\n",
        "b=int(input(\"Enter the 2nd Number :\"))\n",
        "a,b=b,a\n",
        "print(\"Value of a=\",a)\n",
        "print(\"value of b=\",b)"
      ],
      "execution_count": 9,
      "outputs": [
        {
          "output_type": "stream",
          "text": [
            "Enter the 1st number :21\n",
            "Enter the 2nd Number :31\n",
            "Value of a= 31\n",
            "value of b= 21\n"
          ],
          "name": "stdout"
        }
      ]
    }
  ]
}