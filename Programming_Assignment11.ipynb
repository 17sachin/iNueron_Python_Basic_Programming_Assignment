{
  "nbformat": 4,
  "nbformat_minor": 0,
  "metadata": {
    "colab": {
      "name": "Programming_Assignment11.ipynb",
      "provenance": [],
      "collapsed_sections": [],
      "authorship_tag": "ABX9TyOBvACWCo3SHO3K8Zpxmpkm",
      "include_colab_link": true
    },
    "kernelspec": {
      "name": "python3",
      "display_name": "Python 3"
    },
    "language_info": {
      "name": "python"
    }
  },
  "cells": [
    {
      "cell_type": "markdown",
      "metadata": {
        "id": "view-in-github",
        "colab_type": "text"
      },
      "source": [
        "<a href=\"https://colab.research.google.com/github/17sachin/iNueron_Python_Basic_Programming_Assignment/blob/main/Programming_Assignment11.ipynb\" target=\"_parent\"><img src=\"https://colab.research.google.com/assets/colab-badge.svg\" alt=\"Open In Colab\"/></a>"
      ]
    },
    {
      "cell_type": "markdown",
      "source": [
        "1.Write a Python program to find words which are greater than given length k?"
      ],
      "metadata": {
        "id": "awjxCb0ZrqEJ"
      }
    },
    {
      "cell_type": "code",
      "source": [
        "my_str = input(\"Enter the string: \")\n",
        "k=int(input(\"Enter k (Value for accepting string: \"))\n",
        "\n",
        "string = []\n",
        "\n",
        "words = my_str.split(\" \")\n",
        "\n",
        "for word in words:\n",
        "    if len(word) > k:\n",
        "        string.append(word)\n",
        "\n",
        "print(\"All words which are greater than given length \", k , \"are\", string)"
      ],
      "metadata": {
        "colab": {
          "base_uri": "https://localhost:8080/"
        },
        "id": "wsvPF9jyr5VJ",
        "outputId": "2cfaa7c2-3571-4c11-a676-6b9d05e02bdc"
      },
      "execution_count": 1,
      "outputs": [
        {
          "output_type": "stream",
          "name": "stdout",
          "text": [
            "Enter the string: learn python programming at include help\n",
            "Enter k (Value for accepting string: 5\n",
            "All words which are greater than given length  5 are ['python', 'programming', 'include']\n"
          ]
        }
      ]
    },
    {
      "cell_type": "markdown",
      "source": [
        "2.Write a Python program for removing i-th character from a string?"
      ],
      "metadata": {
        "id": "bwkw7lP5unfo"
      }
    },
    {
      "cell_type": "code",
      "source": [
        "def remove(string, i): \n",
        "  a = string[ : i]\n",
        "  b = string[i + 1: ]\n",
        "  return a + b\n",
        "if __name__ == '__main__':\n",
        "  string = \"geeksFORgeeks\"\n",
        "  i = 4\n",
        "\n",
        "print(remove(string, i))"
      ],
      "metadata": {
        "colab": {
          "base_uri": "https://localhost:8080/"
        },
        "id": "VmyAtpHduszA",
        "outputId": "201e97c0-b28c-408c-b7ff-d72ef367c5de"
      },
      "execution_count": 3,
      "outputs": [
        {
          "output_type": "stream",
          "name": "stdout",
          "text": [
            "geekFORgeeks\n"
          ]
        }
      ]
    },
    {
      "cell_type": "markdown",
      "source": [
        "3.Write a Python program to split and join a string?"
      ],
      "metadata": {
        "id": "iz-Vrt-av1hw"
      }
    },
    {
      "cell_type": "code",
      "source": [
        "def split_string(string):\n",
        "    list_string = string.split(\" \")\n",
        "\n",
        "    return list_string\n",
        "\n",
        "\n",
        "def join_string(list_string):\n",
        "    string = \"-\".join(list_string)\n",
        "\n",
        "    return string\n",
        "\n",
        "\n",
        "if __name__ == '__main__':\n",
        "    string = 'Geeks for Geeks'\n",
        "\n",
        "    list_string = split_string(string)\n",
        "    print(list_string)\n",
        "\n",
        "\n",
        "    new_string = join_string(list_string)\n",
        "    print(new_string)\n"
      ],
      "metadata": {
        "colab": {
          "base_uri": "https://localhost:8080/"
        },
        "id": "Vc3I6mKxv7eA",
        "outputId": "7b43c877-e9ca-4380-ccd1-71d7226aa814"
      },
      "execution_count": 4,
      "outputs": [
        {
          "output_type": "stream",
          "name": "stdout",
          "text": [
            "['Geeks', 'for', 'Geeks']\n",
            "Geeks-for-Geeks\n"
          ]
        }
      ]
    },
    {
      "cell_type": "markdown",
      "source": [
        "4.Write a Python to check if a given string is binary string or not?"
      ],
      "metadata": {
        "id": "jwqXvkj2x9b_"
      }
    },
    {
      "cell_type": "code",
      "source": [
        "def check(string):\n",
        "  p = set(string)\n",
        "\n",
        "  s = {'0', '1'}\n",
        "\n",
        "  if s == p or p == {'0'} or p == {'1'}:\n",
        "    print(\"Yes\")\n",
        "  else :\n",
        "    print(\"No\")\n",
        "\n",
        "if __name__ == \"__main__\" :\n",
        "  string = \"101010000111\"\n",
        "  check(string)"
      ],
      "metadata": {
        "colab": {
          "base_uri": "https://localhost:8080/"
        },
        "id": "tXI-M1QdyDrf",
        "outputId": "7d83faa2-a14f-4cf3-a0ea-20b2849ea888"
      },
      "execution_count": 2,
      "outputs": [
        {
          "output_type": "stream",
          "name": "stdout",
          "text": [
            "Yes\n"
          ]
        }
      ]
    },
    {
      "cell_type": "markdown",
      "source": [
        "5.Write a Python program to find uncommon words from two Strings?"
      ],
      "metadata": {
        "id": "DF6gvGSbaf0D"
      }
    },
    {
      "cell_type": "code",
      "source": [
        "def uncommon_words(s1, s2):\n",
        "    count = {}\n",
        "    for word in s1.split():\n",
        "        count[word] = count.get(word, 0) + 1\n",
        "    \n",
        "    for word in s2.split():\n",
        "        count[word] = count.get(word, 0) + 1\n",
        "    \n",
        "    return [word for word in count if count[word] == 1]\n",
        "\n",
        "s1=\"Studytonight\"\n",
        "s2=\"Welcome to Studytonight\"\n",
        "  \n",
        "\n",
        "print(uncommon_words(s1, s2))"
      ],
      "metadata": {
        "colab": {
          "base_uri": "https://localhost:8080/"
        },
        "id": "SDfSxMevdGXp",
        "outputId": "f4c3826b-adc8-473a-9e9e-10999fe88828"
      },
      "execution_count": 3,
      "outputs": [
        {
          "output_type": "stream",
          "name": "stdout",
          "text": [
            "['Welcome', 'to']\n"
          ]
        }
      ]
    },
    {
      "cell_type": "code",
      "source": [
        ""
      ],
      "metadata": {
        "id": "57xr5Q9YdKef"
      },
      "execution_count": null,
      "outputs": []
    },
    {
      "cell_type": "markdown",
      "source": [
        "6.Write a Python to find all duplicate characters in string?"
      ],
      "metadata": {
        "id": "jXVIsalLdL-5"
      }
    },
    {
      "cell_type": "code",
      "source": [
        "string = \"tutorialspoint\"\n",
        "\n",
        "duplicates = {}\n",
        "for char in string:\n",
        "  if char in duplicates:\n",
        "    duplicates[char] += 1\n",
        "  else:\n",
        "    duplicates[char] = 1\n",
        "for key, value in duplicates.items():\n",
        "  if value > 1:\n",
        "    print(key, end = \" \")\n",
        "print()"
      ],
      "metadata": {
        "colab": {
          "base_uri": "https://localhost:8080/"
        },
        "id": "2D3tCRHxdXwI",
        "outputId": "2feec765-ffd4-4588-98de-44d72571530a"
      },
      "execution_count": 4,
      "outputs": [
        {
          "output_type": "stream",
          "name": "stdout",
          "text": [
            "t o i \n"
          ]
        }
      ]
    },
    {
      "cell_type": "markdown",
      "source": [
        "7.Write a Python Program to check if a string contains any special character?"
      ],
      "metadata": {
        "id": "aq3T6udbd_Jo"
      }
    },
    {
      "cell_type": "code",
      "source": [
        "import re\n",
        "\n",
        "\n",
        "string = input('Enter any string: ')\n",
        "\n",
        "special_char = re.compile('[@_!#$%^&*()<>?/\\|}{~:]')\n",
        "\n",
        "\n",
        "if(special_char.search(string) == None):\n",
        "  print('String does not contain any special characters.')\n",
        "else:\n",
        "  print('The string contains special characters.')"
      ],
      "metadata": {
        "colab": {
          "base_uri": "https://localhost:8080/"
        },
        "id": "ad58Wx6WeHQo",
        "outputId": "34c5c759-f7d3-47a5-955f-f38dd1f1ec3b"
      },
      "execution_count": 6,
      "outputs": [
        {
          "output_type": "stream",
          "name": "stdout",
          "text": [
            "Enter any string: @knowprogram\n",
            "The string contains special characters.\n"
          ]
        }
      ]
    },
    {
      "cell_type": "code",
      "source": [
        ""
      ],
      "metadata": {
        "id": "VwJ8ywDOebgU"
      },
      "execution_count": null,
      "outputs": []
    }
  ]
}